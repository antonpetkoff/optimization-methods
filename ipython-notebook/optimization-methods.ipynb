{
 "cells": [
  {
   "cell_type": "markdown",
   "metadata": {},
   "source": [
    "Методи за оптимизация\n",
    "=====================\n",
    "\n",
    "$\n",
    "\\begin{equation*}\n",
    "\\begin{aligned}\n",
    "& \\underset{x \\in S \\subseteq \\mathbb{R}}{\\text{minimize}}\n",
    "& & f(x) \\\\\n",
    "& \\text{subject to}\n",
    "& & f_i(x) \\leq b_i, \\; i = 1, \\ldots, m.\n",
    "\\end{aligned}\n",
    "\\end{equation*}\n",
    "$\n",
    "\n",
    "- Gradient Descent (спускане по градиента)\n",
    "    TODO: https://en.wikipedia.org/wiki/Nonlinear_conjugate_gradient_method\n",
    "    TODO: https://www.wolframalpha.com/input/?i=minimize+21.5+%2B+x*sin(4*pi*x)+%2B+y*sin(20*pi*y)\n",
    "    TODO: http://docs.scipy.org/doc/scipy/reference/tutorial/optimize.html\n",
    "    - Line Search (линейно търсене на оптимална стъпка)\n",
    "        - Условия на Волф\n",
    "    - Trust Region (области на доверие)\n",
    "- Simulated Annealing (имитирано закаляване)\n",
    "- Генетични алгоритми\n",
    "- Branch & Bound\n",
    "\n",
    "TODO: define what is the minimization problem\n",
    "TODO: define Markov Chain\n",
    "TODO: define Monte Carlo strategy with demonstration and images\n",
    "TODO: define Knapsack problem\n",
    "\n",
    "TODO: solve a larger knapsack probelm\n",
    "TODO: use gradient descent for the rosenbrock function\n",
    "TODO: optimize Krastanov's trigonometric function\n",
    "\n",
    "\n",
    "### Приложения и мотивация\n",
    "\n",
    "TODO: https://en.wikipedia.org/wiki/Backpropagation\n",
    "https://en.wikipedia.org/wiki/Evolved_antenna\n",
    "https://www.youtube.com/watch?v=JBgG_VSP7f8 :: Karl Sims - Evolved Virtual Creatures, Evolution Simulation, 1994"
   ]
  },
  {
   "cell_type": "code",
   "execution_count": null,
   "metadata": {
    "collapsed": true
   },
   "outputs": [],
   "source": []
  }
 ],
 "metadata": {
  "kernelspec": {
   "display_name": "Python 3",
   "language": "python",
   "name": "python3"
  },
  "language_info": {
   "codemirror_mode": {
    "name": "ipython",
    "version": 3
   },
   "file_extension": ".py",
   "mimetype": "text/x-python",
   "name": "python",
   "nbconvert_exporter": "python",
   "pygments_lexer": "ipython3",
   "version": "3.5.1"
  }
 },
 "nbformat": 4,
 "nbformat_minor": 0
}
