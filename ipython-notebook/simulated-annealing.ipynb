{
 "cells": [
  {
   "cell_type": "code",
   "execution_count": 1,
   "metadata": {
    "collapsed": false
   },
   "outputs": [],
   "source": [
    "import operator\n",
    "import numpy as np\n",
    "from math import exp\n",
    "from numpy import random\n",
    "\n",
    "class SimulatedAnnealing():\n",
    "    def __init__(self, minimize, T_min, T_max, init,\n",
    "                 neighbour, energy, accept, cooling):\n",
    "        self.compare = operator.lt if minimize else operator.gt\n",
    "        self.T_min = T_min\n",
    "        self.neighbour = neighbour\n",
    "        self.energy = energy\n",
    "        self.accept = accept\n",
    "        self.cooling = cooling\n",
    "        \n",
    "        self.T = T_max\n",
    "        self.best = init()\n",
    "        self.step = 0\n",
    "\n",
    "    def iteration(self):\n",
    "        next = self.neighbour(self.T, self.best)\n",
    "        deltaE = self.energy(next) - self.energy(self.best)\n",
    "        if self.compare(deltaE, 0):\n",
    "            self.best = next\n",
    "        elif random.random() < self.accept(self.T, deltaE):\n",
    "            self.best = next\n",
    "\n",
    "    def cool(self):\n",
    "        self.T = self.cooling(self.T, self.best)\n",
    "\n",
    "    def execute(self):\n",
    "        while self.T > self.T_min:\n",
    "            self.iteration()\n",
    "            self.cool()\n",
    "            self.log()\n",
    "            self.step += 1\n",
    "        print('\\nf(' + str(self.best) + ') = ' + str(self.energy(self.best)))\n",
    "        return self.best\n",
    "    \n",
    "    def log(self):\n",
    "        if(self.step % 100 == 0):\n",
    "            print(str(self.step) + \" T=\"+str(self.T) +\n",
    "                  \"\\tf(\" + str(self.best) + \") = \" + str(self.energy(self.best)))"
   ]
  },
  {
   "cell_type": "code",
   "execution_count": 2,
   "metadata": {
    "collapsed": false
   },
   "outputs": [
    {
     "name": "stdout",
     "output_type": "stream",
     "text": [
      "0 T=0.99\tf([ 0.1  1.4]) = 194.02\n",
      "100 T=0.36237201786049694\tf([ 1.45027075  2.14129947]) = 0.347251799283\n",
      "200 T=0.13263987810938213\tf([ 1.34198948  1.8309866 ]) = 0.207262127206\n",
      "300 T=0.0485504851305729\tf([ 1.2804645   1.65393784]) = 0.0992482852046\n",
      "400 T=0.017771047742294682\tf([ 1.20762644  1.46450077]) = 0.0468776597348\n",
      "500 T=0.006504778211990459\tf([ 1.19064942  1.40987116]) = 0.042392092044\n",
      "600 T=0.0023809591983979563\tf([ 1.17785761  1.39465283]) = 0.0369685659074\n",
      "700 T=0.0008715080698656353\tf([ 1.08762651  1.17878099]) = 0.0094010243823\n",
      "800 T=0.00031900013925143135\tf([ 0.96526271  0.93191266]) = 0.00120994017387\n",
      "900 T=0.00011676436783668758\tf([ 0.96526271  0.93191266]) = 0.00120994017387\n",
      "1000 T=4.2739534936551264e-05\tf([ 0.96526271  0.93191266]) = 0.00120994017387\n",
      "1100 T=1.564405203775484e-05\tf([ 0.98014312  0.9625191 ]) = 0.00073232756491\n",
      "\n",
      "f([ 0.98014312  0.9625191 ]) = 0.00073232756491\n"
     ]
    }
   ],
   "source": [
    "def rosenbrock(x, y, a=1, b=100):\n",
    "    return (a - x)**2 + b*(y - x**2)**2\n",
    "\n",
    "t_min = 1e-5\n",
    "t_max = 1\n",
    "\n",
    "def init():\n",
    "    return np.array([0.1, 1.4])\n",
    "\n",
    "def neighbour(T, x):\n",
    "    #return x + random.uniform(-T, T, x.shape)\n",
    "    return random.normal(x, max(T, 0.1), x.shape)\n",
    "\n",
    "def energy(vector):\n",
    "    return rosenbrock(*vector)\n",
    "\n",
    "def accept(T, deltaE, k=0.1):\n",
    "    return exp(-(deltaE)/k/T)\n",
    "\n",
    "def cooling(T, best):\n",
    "    return T*0.99\n",
    "\n",
    "rosenbrock_min = SimulatedAnnealing(True, t_min, t_max, init,\n",
    "                                    neighbour, energy, accept, cooling).execute()"
   ]
  },
  {
   "cell_type": "code",
   "execution_count": 3,
   "metadata": {
    "collapsed": false
   },
   "outputs": [
    {
     "name": "stdout",
     "output_type": "stream",
     "text": [
      "0 T=0.99\tf([0 1 0 1 1 0 0 0 1 0 0 1 1 0 1]) = 1312\n",
      "100 T=0.36237201786049694\tf([1 0 1 1 1 0 0 1 0 0 0 1 1 1 0]) = 1438\n",
      "200 T=0.13263987810938213\tf([1 1 1 0 0 0 1 1 0 0 1 0 1 0 1]) = 1451\n",
      "300 T=0.0485504851305729\tf([1 1 1 0 0 0 1 1 0 0 1 0 1 0 1]) = 1451\n",
      "400 T=0.017771047742294682\tf([1 1 1 0 0 0 1 1 0 0 1 0 1 0 1]) = 1451\n",
      "500 T=0.006504778211990459\tf([1 1 1 0 0 0 1 1 0 0 1 0 1 0 1]) = 1451\n",
      "600 T=0.0023809591983979563\tf([1 1 1 0 0 0 1 1 0 0 1 0 1 0 1]) = 1451\n",
      "700 T=0.0008715080698656353\tf([1 1 1 0 0 0 1 1 0 0 1 0 1 0 1]) = 1451\n",
      "800 T=0.00031900013925143135\tf([1 1 1 0 0 0 1 1 0 0 1 0 1 0 1]) = 1451\n",
      "900 T=0.00011676436783668758\tf([0 1 1 0 1 0 1 1 1 0 0 0 1 0 1]) = 1454\n",
      "1000 T=4.2739534936551264e-05\tf([0 1 1 0 1 0 1 1 1 0 0 0 1 0 1]) = 1454\n",
      "1100 T=1.564405203775484e-05\tf([0 1 1 0 1 0 1 1 1 0 0 0 1 0 1]) = 1454\n",
      "\n",
      "f([0 1 1 0 1 0 1 1 1 0 0 0 1 0 1]) = 1454\n"
     ]
    }
   ],
   "source": [
    "# 0-1 Knapsack Problem data taken from\n",
    "# https://people.sc.fsu.edu/~jburkardt/datasets/knapsack_01/knapsack_01.html\n",
    "# optimal profit = 1458\n",
    "# optimal selection = [1, 0, 1, 0, 1, 0, 1, 1, 1, 0, 0, 0, 0, 1, 1]\n",
    "\n",
    "DIM = 15\n",
    "W = [70, 73, 77, 80, 82, 87, 90, 94, 98, 106, 110, 113, 115, 118, 120]\n",
    "V = [135, 139, 149, 150, 156, 163, 173, 184, 192, 201, 210, 214, 221, 229, 240]\n",
    "C = 750\n",
    "\n",
    "def kp_init():\n",
    "    return np.random.randint(2, size=DIM)\n",
    "\n",
    "def kp_neighbour(T, knapsack):\n",
    "    new_knapsack = np.copy(knapsack)\n",
    "    new_knapsack[random.randint(DIM)] ^= 1\n",
    "    while kp_cost(new_knapsack) == 0:\n",
    "        new_knapsack[random.randint(DIM)] ^= 1\n",
    "    return new_knapsack\n",
    "\n",
    "def kp_cost(knapsack):\n",
    "    total_weight = sum([W[i] for i, chosen in enumerate(knapsack) if chosen])\n",
    "    total_value = sum([V[i] for i, chosen in enumerate(knapsack) if chosen])\n",
    "    return 0 if total_weight > C else total_value\n",
    "\n",
    "def kp_accept(T, deltaE, k=0.1):\n",
    "    return exp(deltaE / k / T)\n",
    "\n",
    "kp_max = SimulatedAnnealing(False, t_min, t_max, kp_init,\n",
    "                            kp_neighbour, kp_cost, kp_accept, cooling).execute()"
   ]
  },
  {
   "cell_type": "code",
   "execution_count": 4,
   "metadata": {
    "collapsed": false
   },
   "outputs": [],
   "source": [
    "import matplotlib.pyplot as plt\n",
    "import matplotlib.animation as animation\n",
    "from mpl_toolkits.mplot3d import Axes3D\n",
    "from matplotlib import cm\n",
    "\n",
    "# %matplotlib nbagg\n",
    "\n",
    "# animation of Rosenbrock minimization\n",
    "sa = SimulatedAnnealing(True, t_min, t_max, init, neighbour, energy, accept, cooling)\n",
    "fig = plt.figure()\n",
    "xmin, xmax = -2.0, 2.0\n",
    "ymin, ymax = -1.0, 3.0\n",
    "x1 = np.linspace(xmin, xmax, 100)\n",
    "x2 = np.linspace(ymin, ymax, 100)\n",
    "Xc, Yc = np.meshgrid(x1, x2)\n",
    "Zc = rosenbrock(Xc, Yc)\n",
    "ax = fig.add_subplot(111, aspect='equal', autoscale_on=False, xlim=(xmin, xmax), ylim=(ymin, ymax))\n",
    "CS = ax.contour(Xc, Yc, Zc, levels=[0, 0.1, 1, 2, 10, 20, 100])\n",
    "ax.clabel(CS, inline=1, fmt='%1.1f', fontsize=14)\n",
    "ax.set_title('Non-Convex Function')\n",
    "line, = ax.plot([], [], 'o-', lw=2)\n",
    "time_text = ax.text(0.02, 0.95, '', transform=ax.transAxes)\n",
    "energy_text = ax.text(0.02, 0.90, '', transform=ax.transAxes)\n",
    "\n",
    "def init_animation():\n",
    "    line.set_data([], [])\n",
    "    time_text.set_text('')\n",
    "    energy_text.set_text('')\n",
    "    return line, time_text, energy_text\n",
    "\n",
    "xs = []\n",
    "ys = []\n",
    "def animate(step):\n",
    "    global sa, xs, ys\n",
    "    sa.iteration()\n",
    "    sa.cool()\n",
    "    xs.append(sa.best[0])\n",
    "    ys.append(sa.best[1])\n",
    "    line.set_data(xs, ys)\n",
    "    time_text.set_text('time = %.1f' % step)\n",
    "    energy_text.set_text('temperature = %.3f J' % sa.T)\n",
    "    return line, time_text, energy_text\n",
    "\n",
    "ani = animation.FuncAnimation(fig, animate, frames=25, interval=25, init_func=init_animation)\n",
    "plt.show()"
   ]
  }
 ],
 "metadata": {
  "kernelspec": {
   "display_name": "Python 3",
   "language": "python",
   "name": "python3"
  },
  "language_info": {
   "codemirror_mode": {
    "name": "ipython",
    "version": 3
   },
   "file_extension": ".py",
   "mimetype": "text/x-python",
   "name": "python",
   "nbconvert_exporter": "python",
   "pygments_lexer": "ipython3",
   "version": "3.5.1"
  }
 },
 "nbformat": 4,
 "nbformat_minor": 0
}
