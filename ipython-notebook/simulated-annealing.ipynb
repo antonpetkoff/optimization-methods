{
 "cells": [
  {
   "cell_type": "code",
   "execution_count": 2,
   "metadata": {
    "collapsed": false
   },
   "outputs": [],
   "source": [
    "import operator\n",
    "import numpy as np\n",
    "import math\n",
    "from numpy import random\n",
    "\n",
    "import matplotlib.pyplot as plt\n",
    "from mpl_toolkits.mplot3d import Axes3D\n",
    "from matplotlib import cm\n",
    "\n",
    "import matplotlib.animation as animation\n",
    "\n",
    "# %matplotlib nbagg\n",
    "\n",
    "class SimulatedAnnealing():\n",
    "    def __init__(self, minimize, T_min, T_max, init,\n",
    "                 neighbour, energy, accept, cooling):\n",
    "        self.compare = operator.lt if minimize else operator.gt\n",
    "        self.T_min = T_min\n",
    "        self.neighbour = neighbour\n",
    "        self.energy = energy\n",
    "        self.accept = accept\n",
    "        self.cooling = cooling\n",
    "        \n",
    "        self.T = T_max\n",
    "        self.best = init()\n",
    "        self.step = 0\n",
    "\n",
    "    def iteration(self):\n",
    "        next = self.neighbour(self.T, self.best)\n",
    "        deltaE = self.energy(next) - self.energy(self.best)\n",
    "        if self.compare(deltaE, 0):\n",
    "            self.best = next\n",
    "        elif random.random() < self.accept(self.T, deltaE):\n",
    "            self.best = next\n",
    "\n",
    "    def cool(self):\n",
    "        self.T = self.cooling(self.T, self.best)\n",
    "\n",
    "    def execute(self):\n",
    "        while self.T > self.T_min:\n",
    "            self.iteration()\n",
    "            self.cool()\n",
    "            self.log()\n",
    "            self.step += 1\n",
    "        print('\\nf(' + str(self.best) + ') = ' + str(self.energy(self.best)))\n",
    "        return self.best\n",
    "    \n",
    "    def log(self):\n",
    "        if(self.step % 100 == 0):\n",
    "            print(str(self.step) + \" T=\"+str(self.T) +\n",
    "                  \"\\tf(\" + str(self.best) + \") = \" + str(self.energy(self.best)))\n",
    "\n",
    "# standart configuration parameters and functions for Simulated Annealing\n",
    "t_min = 1e-5\n",
    "t_max = 1\n",
    "\n",
    "def init():\n",
    "    return np.array([0.1, 1.4])\n",
    "\n",
    "def neighbour(T, x):\n",
    "    #return x + random.uniform(-T, T, x.shape)\n",
    "    return random.normal(x, max(T, 0.1), x.shape)\n",
    "\n",
    "def accept(T, deltaE, k=0.1):\n",
    "    return math.exp(-(deltaE)/k/T)\n",
    "\n",
    "def cooling(T, best):\n",
    "    return T*0.99"
   ]
  },
  {
   "cell_type": "code",
   "execution_count": 3,
   "metadata": {
    "collapsed": false
   },
   "outputs": [],
   "source": [
    "# plot the Rosenbrock function\n",
    "\n",
    "def rosenbrock(x, y, a=1, b=100):\n",
    "    return (a - x)**2 + b*(y - x**2)**2\n",
    "\n",
    "def rosenbrock_energy(vector):\n",
    "    return rosenbrock(*vector)\n",
    "\n",
    "# Design variables at mesh points\n",
    "i1 = np.arange(-2, 2, 0.01)\n",
    "i2 = np.arange(-1, 3, 0.01)\n",
    "X, Y = np.meshgrid(i1, i2)\n",
    "Z = rosenbrock(X, Y)\n",
    "\n",
    "fig = plt.figure()\n",
    "ax = plt.axes(projection='3d')\n",
    "\n",
    "Gx, Gy = np.gradient(Z) # gradients with respect to x and y\n",
    "G = (Gx**2+Gy**2)**.5  # gradient magnitude\n",
    "N = G/G.max()  # normalize 0..1\n",
    "\n",
    "ax.plot_surface(X, Y, Z,facecolors=cm.jet(N))\n",
    "\n",
    "plt.show()"
   ]
  },
  {
   "cell_type": "code",
   "execution_count": 4,
   "metadata": {
    "collapsed": false
   },
   "outputs": [
    {
     "name": "stdout",
     "output_type": "stream",
     "text": [
      "0 T=0.99\tf([-0.82760275  1.60474883]) = 87.9474775475\n",
      "100 T=0.36237201786049694\tf([ 0.95040625  0.93405811]) = 0.0972376993656\n",
      "200 T=0.13263987810938213\tf([ 1.10789084  1.21211976]) = 0.0350566133491\n",
      "300 T=0.0485504851305729\tf([ 1.10858089  1.23509027]) = 0.0155581401459\n",
      "400 T=0.017771047742294682\tf([ 1.10825959  1.22998309]) = 0.0120242157863\n",
      "500 T=0.006504778211990459\tf([ 1.08543155  1.17550222]) = 0.00800580815753\n",
      "600 T=0.0023809591983979563\tf([ 1.02495244  1.05611609]) = 0.00374584840577\n",
      "700 T=0.0008715080698656353\tf([ 1.02495244  1.05611609]) = 0.00374584840577\n",
      "800 T=0.00031900013925143135\tf([ 1.02495244  1.05611609]) = 0.00374584840577\n",
      "900 T=0.00011676436783668758\tf([ 1.02879759  1.05410345]) = 0.00269642975104\n",
      "1000 T=4.2739534936551264e-05\tf([ 1.02879759  1.05410345]) = 0.00269642975104\n",
      "1100 T=1.564405203775484e-05\tf([ 1.02879759  1.05410345]) = 0.00269642975104\n",
      "\n",
      "f([ 1.02879759  1.05410345]) = 0.00269642975104\n"
     ]
    }
   ],
   "source": [
    "# minimize the Rosenbrock function with Simulated Annealing\n",
    "\n",
    "rosenbrock_min = SimulatedAnnealing(True, t_min, t_max, init,\n",
    "                                    neighbour, rosenbrock_energy, accept, cooling).execute()"
   ]
  },
  {
   "cell_type": "code",
   "execution_count": 5,
   "metadata": {
    "collapsed": false
   },
   "outputs": [
    {
     "name": "stdout",
     "output_type": "stream",
     "text": [
      "0 T=0.99\tf([1 1 1 1 1 0 0 0 0 0 1 1 1 0 0]) = 1374\n",
      "100 T=0.36237201786049694\tf([0 1 1 0 1 1 1 0 0 1 0 0 1 0 1]) = 1442\n",
      "200 T=0.13263987810938213\tf([1 0 0 1 1 0 1 1 1 0 0 0 1 0 1]) = 1451\n",
      "300 T=0.0485504851305729\tf([1 0 0 1 1 0 1 1 1 0 0 0 1 0 1]) = 1451\n",
      "400 T=0.017771047742294682\tf([1 0 0 1 1 0 1 1 1 0 0 0 1 0 1]) = 1451\n",
      "500 T=0.006504778211990459\tf([1 0 0 1 1 0 1 1 1 0 0 0 1 0 1]) = 1451\n",
      "600 T=0.0023809591983979563\tf([1 0 1 1 0 0 1 1 1 0 0 0 0 1 1]) = 1452\n",
      "700 T=0.0008715080698656353\tf([1 0 1 1 0 0 1 1 1 0 0 0 0 1 1]) = 1452\n",
      "800 T=0.00031900013925143135\tf([0 1 1 1 0 0 1 1 1 0 0 0 0 1 1]) = 1456\n",
      "900 T=0.00011676436783668758\tf([0 1 1 1 0 0 1 1 1 0 0 0 0 1 1]) = 1456\n",
      "1000 T=4.2739534936551264e-05\tf([0 1 1 1 0 0 1 1 1 0 0 0 0 1 1]) = 1456\n",
      "1100 T=1.564405203775484e-05\tf([0 1 1 1 0 0 1 1 1 0 0 0 0 1 1]) = 1456\n",
      "\n",
      "f([0 1 1 1 0 0 1 1 1 0 0 0 0 1 1]) = 1456\n"
     ]
    }
   ],
   "source": [
    "# maximization of the 0-1 Knapsack Problem with data taken from\n",
    "# https://people.sc.fsu.edu/~jburkardt/datasets/knapsack_01/knapsack_01.html\n",
    "# optimal profit = 1458\n",
    "# optimal selection = [1, 0, 1, 0, 1, 0, 1, 1, 1, 0, 0, 0, 0, 1, 1]\n",
    "\n",
    "DIM = 15\n",
    "W = [70, 73, 77, 80, 82, 87, 90, 94, 98, 106, 110, 113, 115, 118, 120]\n",
    "V = [135, 139, 149, 150, 156, 163, 173, 184, 192, 201, 210, 214, 221, 229, 240]\n",
    "C = 750\n",
    "\n",
    "def kp_init():\n",
    "    return np.random.randint(2, size=DIM)\n",
    "\n",
    "def kp_neighbour(T, knapsack):\n",
    "    new_knapsack = np.copy(knapsack)\n",
    "    new_knapsack[random.randint(DIM)] ^= 1\n",
    "    while kp_cost(new_knapsack) == 0:\n",
    "        new_knapsack[random.randint(DIM)] ^= 1\n",
    "    return new_knapsack\n",
    "\n",
    "def kp_cost(knapsack):\n",
    "    total_weight = sum([W[i] for i, chosen in enumerate(knapsack) if chosen])\n",
    "    total_value = sum([V[i] for i, chosen in enumerate(knapsack) if chosen])\n",
    "    return 0 if total_weight > C else total_value\n",
    "\n",
    "def kp_accept(T, deltaE, k=0.1):\n",
    "    return math.exp(deltaE / k / T)\n",
    "\n",
    "kp_max = SimulatedAnnealing(False, t_min, t_max, kp_init,\n",
    "                            kp_neighbour, kp_cost, kp_accept, cooling).execute()"
   ]
  },
  {
   "cell_type": "code",
   "execution_count": 6,
   "metadata": {
    "collapsed": false
   },
   "outputs": [],
   "source": [
    "# animation of Rosenbrock minimization\n",
    "\n",
    "sa = SimulatedAnnealing(True, t_min, t_max, init, neighbour, rosenbrock_energy, accept, cooling)\n",
    "fig = plt.figure()\n",
    "xmin, xmax = -2.0, 2.0\n",
    "ymin, ymax = -1.0, 3.0\n",
    "x1 = np.linspace(xmin, xmax, 100)\n",
    "x2 = np.linspace(ymin, ymax, 100)\n",
    "Xc, Yc = np.meshgrid(x1, x2)\n",
    "Zc = rosenbrock(Xc, Yc)\n",
    "ax = fig.add_subplot(111, aspect='equal', autoscale_on=False, xlim=(xmin, xmax), ylim=(ymin, ymax))\n",
    "CS = ax.contour(Xc, Yc, Zc, levels=[0, 0.1, 1, 2, 10, 20, 100])\n",
    "ax.clabel(CS, inline=1, fmt='%1.1f', fontsize=14)\n",
    "ax.set_title('Non-Convex Function')\n",
    "line, = ax.plot([], [], 'o-', lw=2)\n",
    "time_text = ax.text(0.02, 0.95, '', transform=ax.transAxes)\n",
    "energy_text = ax.text(0.02, 0.90, '', transform=ax.transAxes)\n",
    "\n",
    "def init_animation():\n",
    "    line.set_data([], [])\n",
    "    time_text.set_text('')\n",
    "    energy_text.set_text('')\n",
    "    return line, time_text, energy_text\n",
    "\n",
    "xs = []\n",
    "ys = []\n",
    "def animate(step):\n",
    "    global sa, xs, ys\n",
    "    sa.iteration()\n",
    "    sa.cool()\n",
    "    xs.append(sa.best[0])\n",
    "    ys.append(sa.best[1])\n",
    "    line.set_data(xs, ys)\n",
    "    time_text.set_text('time = %.1f' % step)\n",
    "    energy_text.set_text('temperature = %.3f J' % sa.T)\n",
    "    return line, time_text, energy_text\n",
    "\n",
    "ani = animation.FuncAnimation(fig, animate, frames=25, interval=25, init_func=init_animation)\n",
    "plt.show()"
   ]
  },
  {
   "cell_type": "code",
   "execution_count": 7,
   "metadata": {
    "collapsed": false
   },
   "outputs": [],
   "source": [
    "def spike_pit(x, y):\n",
    "    return 21.5 + x*np.sin(4*math.pi*x) + y*np.sin(20*math.pi*y)\n",
    "\n",
    "xs = np.arange(-3, 12.1, 0.01)\n",
    "ys = np.arange(4.1, 5.8, 0.01)\n",
    "# xs = np.arange(10, 40, 0.01)\n",
    "# ys = np.arange(-10, 10, 0.01)\n",
    "\n",
    "X, Y = np.meshgrid(xs, ys)\n",
    "Z = spike_pit(X, Y)\n",
    "\n",
    "fig = plt.figure()\n",
    "ax = plt.axes(projection='3d')\n",
    "\n",
    "Gx, Gy = np.gradient(Z) # gradients with respect to x and y\n",
    "G = (Gx**2+Gy**2)**.5  # gradient magnitude\n",
    "N = G/G.max()  # normalize 0..1\n",
    "\n",
    "ax.plot_surface(X, Y, Z,facecolors=cm.jet(N))\n",
    "# ax.plot_surface(X, Y, Z)\n",
    "\n",
    "plt.show()"
   ]
  },
  {
   "cell_type": "code",
   "execution_count": 8,
   "metadata": {
    "collapsed": false
   },
   "outputs": [
    {
     "name": "stdout",
     "output_type": "stream",
     "text": [
      "0 T=0.99\tf([ 29.0862361   -1.54151859]) = 47.9861843173\n",
      "100 T=0.36237201786049694\tf([ 31.1046855   -3.12015213]) = 54.5731892993\n",
      "200 T=0.13263987810938213\tf([ 31.12113287  -3.82620383]) = 56.3996568772\n",
      "300 T=0.0485504851305729\tf([ 31.12113287  -3.82620383]) = 56.3996568772\n",
      "400 T=0.017771047742294682\tf([ 31.12113287  -3.82620383]) = 56.3996568772\n",
      "500 T=0.006504778211990459\tf([ 31.12113287  -3.82620383]) = 56.3996568772\n",
      "600 T=0.0023809591983979563\tf([ 31.12113287  -3.82620383]) = 56.3996568772\n",
      "700 T=0.0008715080698656353\tf([ 31.12113287  -3.82620383]) = 56.3996568772\n",
      "800 T=0.00031900013925143135\tf([ 31.12113287  -3.82620383]) = 56.3996568772\n",
      "900 T=0.00011676436783668758\tf([ 31.12113287  -3.82620383]) = 56.3996568772\n",
      "1000 T=4.2739534936551264e-05\tf([ 31.12386294  -4.02494227]) = 56.6456015436\n",
      "1100 T=1.564405203775484e-05\tf([ 31.12386294  -4.02494227]) = 56.6456015436\n",
      "\n",
      "f([ 31.12386294  -4.02494227]) = 56.6456015436\n"
     ]
    }
   ],
   "source": [
    "# minimize the spike pit\n",
    "\n",
    "def spike_init():\n",
    "    return np.array([30.0, 0.0])\n",
    "\n",
    "def spike_energy(vector):\n",
    "    return spike_pit(*vector)\n",
    "\n",
    "spike_pit_min = SimulatedAnnealing(False, t_min, t_max, spike_init,\n",
    "                                   neighbour, spike_energy, kp_accept, cooling).execute()"
   ]
  },
  {
   "cell_type": "code",
   "execution_count": 9,
   "metadata": {
    "collapsed": false
   },
   "outputs": [
    {
     "name": "stdout",
     "output_type": "stream",
     "text": [
      "0 T=0.99\tf([ 30.   0.]) = 21.5\n"
     ]
    }
   ],
   "source": [
    "# animation of Spike Pit maximization\n",
    "\n",
    "sa = SimulatedAnnealing(False, t_min, t_max, spike_init,\n",
    "                                   neighbour, spike_energy, kp_accept, cooling)\n",
    "fig = plt.figure()\n",
    "xmin, xmax = 10, 40\n",
    "ymin, ymax = -10, 10\n",
    "x1 = np.linspace(xmin, xmax, 100)\n",
    "x2 = np.linspace(ymin, ymax, 100)\n",
    "Xc, Yc = np.meshgrid(x1, x2)\n",
    "Zc = spike_pit(Xc, Yc)\n",
    "ax = fig.add_subplot(111, aspect='equal', autoscale_on=False, xlim=(xmin, xmax), ylim=(ymin, ymax))\n",
    "CS = ax.contour(Xc, Yc, Zc, levels=[20, 30, 40, 50, 60])\n",
    "ax.clabel(CS, inline=1, fmt='%1.1f', fontsize=14)\n",
    "ax.set_title('Trigonometric Spikes')\n",
    "line, = ax.plot([], [], 'o-', lw=2)\n",
    "time_text = ax.text(0.02, 0.95, '', transform=ax.transAxes)\n",
    "energy_text = ax.text(0.02, 0.90, '', transform=ax.transAxes)\n",
    "\n",
    "def init_animation():\n",
    "    line.set_data([], [])\n",
    "    time_text.set_text('')\n",
    "    energy_text.set_text('')\n",
    "    return line, time_text, energy_text\n",
    "\n",
    "xs = []\n",
    "ys = []\n",
    "def animate(step):\n",
    "    global sa, xs, ys\n",
    "    sa.iteration()\n",
    "    sa.cool()\n",
    "    sa.log()\n",
    "    sa.step += 1\n",
    "    xs.append(sa.best[0])\n",
    "    ys.append(sa.best[1])\n",
    "    line.set_data(xs, ys)\n",
    "    time_text.set_text('time = %.1f' % step)\n",
    "    energy_text.set_text('temperature = %.3f J' % sa.T)\n",
    "    return line, time_text, energy_text\n",
    "\n",
    "ani = animation.FuncAnimation(fig, animate, frames=25, interval=25, init_func=init_animation)\n",
    "plt.show()"
   ]
  },
  {
   "cell_type": "code",
   "execution_count": null,
   "metadata": {
    "collapsed": true
   },
   "outputs": [],
   "source": []
  }
 ],
 "metadata": {
  "kernelspec": {
   "display_name": "Python 3",
   "language": "python",
   "name": "python3"
  },
  "language_info": {
   "codemirror_mode": {
    "name": "ipython",
    "version": 3
   },
   "file_extension": ".py",
   "mimetype": "text/x-python",
   "name": "python",
   "nbconvert_exporter": "python",
   "pygments_lexer": "ipython3",
   "version": "3.5.1"
  }
 },
 "nbformat": 4,
 "nbformat_minor": 0
}
