{
 "cells": [
  {
   "cell_type": "code",
   "execution_count": 22,
   "metadata": {
    "collapsed": false
   },
   "outputs": [
    {
     "name": "stdout",
     "output_type": "stream",
     "text": [
      "3.13404\n"
     ]
    }
   ],
   "source": [
    "import random\n",
    "\n",
    "NB_POINTS = 10**5\n",
    "\n",
    "def in_circle(x, y):\n",
    "    return x**2 + y**2 < 1\n",
    "\n",
    "def compute_pi(nb_it):\n",
    "    inside_count = sum(1 for _ in range(nb_it) if in_circle(random.random(),random.random()))\n",
    "    return (inside_count / nb_it) * 4\n",
    "\n",
    "print(compute_pi(NB_POINTS))"
   ]
  }
 ],
 "metadata": {
  "kernelspec": {
   "display_name": "Python 3",
   "language": "python",
   "name": "python3"
  },
  "language_info": {
   "codemirror_mode": {
    "name": "ipython",
    "version": 3
   },
   "file_extension": ".py",
   "mimetype": "text/x-python",
   "name": "python",
   "nbconvert_exporter": "python",
   "pygments_lexer": "ipython3",
   "version": "3.5.1"
  }
 },
 "nbformat": 4,
 "nbformat_minor": 0
}
